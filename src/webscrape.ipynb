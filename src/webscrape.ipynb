{
 "cells": [
  {
   "cell_type": "code",
   "execution_count": 1,
   "metadata": {},
   "outputs": [],
   "source": [
    "from bs4 import BeautifulSoup\n",
    "import requests\n",
    "import pandas as pd\n",
    "import numpy as np\n",
    "import shutil\n",
    "from datetime import datetime"
   ]
  },
  {
   "cell_type": "code",
   "execution_count": 2,
   "metadata": {},
   "outputs": [],
   "source": [
    "BASE_URL = 'https://www.mohfw.gov.in/'\n",
    "#loading empty array for board members\n",
    "covid19_data = []\n",
    "#Loop through our URLs we loaded above\n",
    "\n",
    "html = requests.get(BASE_URL).text\n",
    "soup = BeautifulSoup(html, \"html.parser\")\n",
    "#identify table we want to scrape\n",
    "covid19_table = soup.find('table', {\"class\" : \"table table-striped\"})\n",
    "\n",
    "# Today's date in dd-mm-yyyy format\n",
    "date = datetime.today().strftime('%d-%m-%Y')\n",
    "\n",
    "#loop through table, grab each of the 4 columns shown (try one of the links yourself to see the layout)\n",
    "for row in covid19_table.find_all('tr'):\n",
    "    cols = row.find_all('td')\n",
    "    if len(cols) == 5:\n",
    "        covid19_data.append((date, cols[1].text.strip(), cols[2].text.strip(), cols[3].text.strip(), cols[4].text.strip()))"
   ]
  },
  {
   "cell_type": "code",
   "execution_count": 3,
   "metadata": {},
   "outputs": [
    {
     "data": {
      "text/plain": [
       "32"
      ]
     },
     "execution_count": 3,
     "metadata": {},
     "output_type": "execute_result"
    }
   ],
   "source": [
    "#convert output to new array, check length\n",
    "covid19_array = np.asarray(covid19_data)\n",
    "len(covid19_array)"
   ]
  },
  {
   "cell_type": "code",
   "execution_count": 4,
   "metadata": {},
   "outputs": [],
   "source": [
    "#convert new array to dataframe\n",
    "df = pd.DataFrame(covid19_array)"
   ]
  },
  {
   "cell_type": "code",
   "execution_count": 6,
   "metadata": {},
   "outputs": [],
   "source": [
    "#rename columns, check output\n",
    "df.columns = ['Date', 'State', 'Total Confirmed Cases','Cured/Discharged/Migrated', 'Death']\n",
    "# Correct Telengana spelling mistake\n",
    "df = df.replace('Telengana','#Telangana')\n",
    "# Replace any #'s in state names\n",
    "df = df.replace(regex=r'#+', value='')\n",
    "# Convert all numeric columns to int32\n",
    "df[['Total Confirmed Cases','Cured/Discharged/Migrated', 'Death']] = df[['Total Confirmed Cases','Cured/Discharged/Migrated', 'Death']].astype('int32')\n",
    "df = df.sort_values(by='Total Confirmed Cases', ascending=False)"
   ]
  },
  {
   "cell_type": "code",
   "execution_count": 7,
   "metadata": {},
   "outputs": [],
   "source": [
    "# Take a backup\n",
    "destination = '..\\\\backup\\\\covid19-india-statewise-timeseries-' + date + '.csv'\n",
    "shutil.copy('..\\data\\covid19-india-statewise-timeseries.csv',destination)\n",
    "\n",
    "# Export data\n",
    "df.to_csv('..\\data\\covid19-india-statewise-timeseries.csv', mode='a', header=False, index=False)"
   ]
  },
  {
   "cell_type": "code",
   "execution_count": null,
   "metadata": {},
   "outputs": [],
   "source": []
  }
 ],
 "metadata": {
  "kernelspec": {
   "display_name": "Python 3",
   "language": "python",
   "name": "python3"
  },
  "language_info": {
   "codemirror_mode": {
    "name": "ipython",
    "version": 3
   },
   "file_extension": ".py",
   "mimetype": "text/x-python",
   "name": "python",
   "nbconvert_exporter": "python",
   "pygments_lexer": "ipython3",
   "version": "3.7.3"
  }
 },
 "nbformat": 4,
 "nbformat_minor": 2
}
