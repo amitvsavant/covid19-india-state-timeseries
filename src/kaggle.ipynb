{
 "cells": [
  {
   "cell_type": "code",
   "execution_count": 1,
   "metadata": {},
   "outputs": [],
   "source": [
    "from kaggle.api.kaggle_api_extended import KaggleApi\n",
    "from datetime import datetime\n",
    "\n",
    "api = KaggleApi()\n",
    "api.authenticate()"
   ]
  },
  {
   "cell_type": "code",
   "execution_count": 2,
   "metadata": {},
   "outputs": [
    {
     "name": "stdout",
     "output_type": "stream",
     "text": [
      "amitsavant/covid19-india-statewise-reported-cases-timeseries,515,3\n"
     ]
    }
   ],
   "source": [
    "# Signature: dataset_list(sort_by=None, size=None, file_type=None, license_name=None, tag_ids=None, search=None, user=None, mine=False, page=1, max_size=None, min_size=None) \n",
    "datasets=api.dataset_list(search='covid19-india-statewise-reported-cases-timeseries', mine=True, file_type='csv')\n",
    "\n",
    "# datasets is a collection of dataset\n",
    "for dat in  datasets:\n",
    "     print(dat.ref,dat.viewCount,dat.voteCount,sep=',')"
   ]
  },
  {
   "cell_type": "code",
   "execution_count": 3,
   "metadata": {},
   "outputs": [
    {
     "data": {
      "text/plain": [
       "[covid19-india-statewise-timeseries.csv]"
      ]
     },
     "execution_count": 3,
     "metadata": {},
     "output_type": "execute_result"
    }
   ],
   "source": [
    "#Signature: dataset_list_files(dataset)\n",
    "# dataset string should be in format [owner]/[dataset-name]\n",
    "#api.dataset_list_files(dat.ref).files\n",
    "api.dataset_list_files('amitsavant/covid19-india-statewise-reported-cases-timeseries').files\n"
   ]
  },
  {
   "cell_type": "code",
   "execution_count": 4,
   "metadata": {},
   "outputs": [
    {
     "name": "stdout",
     "output_type": "stream",
     "text": [
      "Starting upload for file covid19-india-statewise-timeseries.csv\n"
     ]
    },
    {
     "name": "stderr",
     "output_type": "stream",
     "text": [
      "100%|███████████████████████████████████████████████████████████| 45.7k/45.7k [00:14<00:00, 3.19kB/s]\n"
     ]
    },
    {
     "name": "stdout",
     "output_type": "stream",
     "text": [
      "Upload successful: covid19-india-statewise-timeseries.csv (46KB)\n"
     ]
    },
    {
     "data": {
      "text/plain": [
       "https://www.kaggle.com/amitsavant/covid19-india-statewise-reported-cases-timeseries"
      ]
     },
     "execution_count": 4,
     "metadata": {},
     "output_type": "execute_result"
    }
   ],
   "source": [
    "version_note = 'Updated with ' + datetime.today().strftime('%d %B %Y') + ' data'\n",
    "\n",
    "api.dataset_create_version(\n",
    "    '..\\\\data',\n",
    "    version_notes=version_note,\n",
    "    quiet=False,\n",
    "    delete_old_versions=False,\n",
    ")"
   ]
  }
 ],
 "metadata": {
  "kernelspec": {
   "display_name": "Python 3",
   "language": "python",
   "name": "python3"
  },
  "language_info": {
   "codemirror_mode": {
    "name": "ipython",
    "version": 3
   },
   "file_extension": ".py",
   "mimetype": "text/x-python",
   "name": "python",
   "nbconvert_exporter": "python",
   "pygments_lexer": "ipython3",
   "version": "3.7.3"
  }
 },
 "nbformat": 4,
 "nbformat_minor": 2
}
